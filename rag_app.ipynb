{
 "cells": [
  {
   "cell_type": "code",
   "execution_count": null,
   "id": "2cd6cc67",
   "metadata": {},
   "outputs": [],
   "source": [
    "import logging\n",
    "\n",
    "# Set logging level to WARNING to suppress INFO messages\n",
    "logging.getLogger(\"py4j\").setLevel(logging.WARNING)"
   ]
  },
  {
   "cell_type": "code",
   "execution_count": null,
   "id": "701b194d",
   "metadata": {},
   "outputs": [],
   "source": [
    "import yaml\n",
    "from helper.functions import (\n",
    "    get_enhanced_retriever,\n",
    "    EnhancedRetrievalQA\n",
    ")\n",
    "\n",
    "# Load configuration\n",
    "with open(\"./config/training_config.yaml\", \"r\") as file:\n",
    "    config = yaml.safe_load(file)\n",
    "\n",
    "catalog_name = config[\"data\"][\"catalog_name\"]\n",
    "schema_name = config[\"data\"][\"schema_name\"]\n",
    "\n",
    "vs_endpoint_prefix = \"vs_endpoint_\"\n",
    "vs_endpoint_name = vs_endpoint_prefix + \"poc\"\n",
    "\n",
    "# Define both vector store indices\n",
    "content_vs_index = f\"{catalog_name}.{schema_name}.pdf_content_vs_index\"\n",
    "\n",
    "# Ensure all required fields are present in the configuration\n",
    "if \"endpoint\" not in config:\n",
    "    config[\"endpoint\"] = {\"disable_notice\": True}\n",
    "\n",
    "print(\"✅ Configuration loaded successfully\")\n",
    "print(f\"📊 Catalog: {catalog_name}\")\n",
    "print(f\"📊 Schema: {schema_name}\")\n",
    "print(f\"🔍 Vector Search Endpoint: {vs_endpoint_name}\")\n",
    "print(f\"📖 Content Index: {content_vs_index}\")"
   ]
  },
  {
   "cell_type": "code",
   "execution_count": null,
   "id": "4e7a0dfa",
   "metadata": {},
   "outputs": [],
   "source": [
    "from langchain.chat_models import ChatDatabricks, ChatOpenAI\n",
    "from langchain.embeddings import OpenAIEmbeddings\n",
    "openai_api_key = config[\"auth\"].get(\"openai_api_key\", \"\")\n",
    "embeddings_model_endpoint = \"text-embedding-3-large\"  # OpenAI embedding model\n",
    "embedding_model = OpenAIEmbeddings(model=embeddings_model_endpoint, openai_api_key=openai_api_key)\n",
    "\n",
    "# Databricks Llama-4 Maverick\n",
    "llm_endpoint_name = \"databricks-llama-4-maverick\"\n",
    "chat_model_dbx = ChatDatabricks(\n",
    "    endpoint=llm_endpoint_name, \n",
    "    max_tokens=1000, \n",
    "    temperature=0.1, \n",
    "    disable_notice=True\n",
    " )\n",
    "# OpenAI GPT-4.1-mini\n",
    "chat_model_openai = ChatOpenAI(\n",
    "    model_name=\"gpt-4-1106-preview\",  # GPT-4.1-mini\n",
    "    openai_api_key=openai_api_key,\n",
    "    max_tokens=1000,\n",
    "    temperature=0.1\n",
    ")"
   ]
  },
  {
   "cell_type": "code",
   "execution_count": null,
   "id": "da435a52",
   "metadata": {},
   "outputs": [],
   "source": [
    "def generate_answers(question_list, prompt_template, chat_model, model_name):\n",
    "    print(f\"\\n🔧 Setting up Enhanced RAG System using {model_name}...\")\n",
    "    try:\n",
    "        enhanced_retriever = get_enhanced_retriever(\n",
    "            vs_endpoint_name=vs_endpoint_name,\n",
    "            vs_index_fullname=content_vs_index,\n",
    "            k=15\n",
    "        )\n",
    "        enhanced_qa = EnhancedRetrievalQA(\n",
    "            llm=chat_model,\n",
    "            enhanced_retriever=enhanced_retriever,\n",
    "            custom_prompt_template=prompt_template\n",
    "        )\n",
    "        print(f\"✅ Enhanced RAG System initialized with {model_name}!\")\n",
    "        print(f\"🧪 Testing Enhanced RAG System with {model_name}:\")\n",
    "        print(\"=\" * 80)\n",
    "        for i, question in enumerate(question_list, 1):\n",
    "            print(f\"\\n📝 Question {i}: {question}\")\n",
    "            print(\"-\" * 60)\n",
    "            try:\n",
    "                result = enhanced_qa(question)\n",
    "                print(f\"Answer ({model_name}):\")\n",
    "                print(f\"{result['result']}\")\n",
    "            except Exception as e:\n",
    "                print(f\"⚠️  Question {i} skipped due to authentication requirements\")\n",
    "                print(f\"   Error: {str(e)[:100]}...\")\n",
    "                print(\"=\" * 80)\n",
    "    except Exception as e:\n",
    "        print(f\"❌ Unexpected error: {e}\")\n",
    "        raise"
   ]
  },
  {
   "cell_type": "code",
   "execution_count": null,
   "id": "f702413c",
   "metadata": {},
   "outputs": [],
   "source": [
    "from langchain.prompts import PromptTemplate\n",
    "\n",
    "custom_prompt_template = PromptTemplate()"
   ]
  },
  {
   "cell_type": "code",
   "execution_count": null,
   "id": "6806a5c6",
   "metadata": {},
   "outputs": [],
   "source": [
    "test_questions = [\n",
    "    \"What is the total assets for the bank and group in 2024?\",\n",
    "    \"What is the total loans and advances to customer for the bank and group in 2024?\"\n",
    "    \"What is the 'Gain on partial disposal of subsidiary' for the group in 2024?\",\n",
    "    \"What is the Total equity for the bank in 2023?\",\n",
    "    \"What is the Net cash generated from operating activities for the bank in 2023?\",\n",
    "    \"What is the number of branches in Ghana?\",\n",
    "    \"What are the Total impairment allowances on loans per IFRS for the bank in December 2024 from the statement of prudential adjustments?\",\n",
    "    \"Who is the Managing Director/CEO of access bank?\",\n",
    "    \"What are the Core values of the bank?\"\n",
    "    \"What are the audit fees paid by the Bank to KPMG Professional Services for year the 2024 statutory audit?\",\n",
    "    \"List the key achievements done in Ghana subsidiary branches\"\n",
    "    ]"
   ]
  },
  {
   "cell_type": "code",
   "execution_count": null,
   "id": "25b29d8b",
   "metadata": {},
   "outputs": [],
   "source": [
    "generate_answers(test_questions, custom_prompt_template, chat_model_openai, \"GPT-4.1-mini (OpenAI)\")"
   ]
  }
 ],
 "metadata": {
  "language_info": {
   "name": "python"
  }
 },
 "nbformat": 4,
 "nbformat_minor": 5
}
